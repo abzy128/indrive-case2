{
 "cells": [
  {
   "cell_type": "code",
   "execution_count": 18,
   "id": "f4c760ad",
   "metadata": {},
   "outputs": [
    {
     "name": "stdout",
     "output_type": "stream",
     "text": [
      "randomized_id      int64\n",
      "lat              float64\n",
      "lng              float64\n",
      "alt              float64\n",
      "spd              float64\n",
      "azm              float64\n",
      "dtype: object\n"
     ]
    }
   ],
   "source": [
    "import pandas as pd\n",
    "\n",
    "data_file_path = \"../data/geo_locations_astana_hackathon.csv\"\n",
    "pd.set_option('display.precision', 30)\n",
    "\n",
    "df = pd.read_csv(data_file_path)\n",
    "\n",
    "print(df.dtypes)"
   ]
  },
  {
   "cell_type": "code",
   "execution_count": 19,
   "id": "3154151a",
   "metadata": {},
   "outputs": [
    {
     "data": {
      "text/plain": [
       "count    1.262687000000000000000000000000e+06\n",
       "mean     2.490194296559181807992899848614e+01\n",
       "std      2.125421722216010422812360047828e+01\n",
       "min     -3.600000000000000088817841970013e+00\n",
       "25%      3.154732349819183490069463005057e+00\n",
       "50%      2.246335200000000043019099393860e+01\n",
       "75%      4.364023823382568423312477534637e+01\n",
       "max      3.040903564453125227373675443232e+02\n",
       "Name: spdkph, dtype: float64"
      ]
     },
     "execution_count": 19,
     "metadata": {},
     "output_type": "execute_result"
    }
   ],
   "source": [
    "df[\"spdkph\"] = df[\"spd\"] * 3.6\n",
    "df[\"spdkph\"].describe()"
   ]
  },
  {
   "cell_type": "code",
   "execution_count": 20,
   "id": "5ae1c69f",
   "metadata": {},
   "outputs": [
    {
     "data": {
      "text/plain": [
       "count    1.262687000000000000000000000000e+06\n",
       "mean     1.339780650131366144250932848081e+02\n",
       "std      1.104951178406900140771540463902e+02\n",
       "min      0.000000000000000000000000000000e+00\n",
       "25%      1.299989604949951171875000000000e+01\n",
       "50%      1.054049987792968750000000000000e+02\n",
       "75%      2.169002304980468807116267271340e+02\n",
       "max      3.599999694824218750000000000000e+02\n",
       "Name: azm, dtype: float64"
      ]
     },
     "execution_count": 20,
     "metadata": {},
     "output_type": "execute_result"
    }
   ],
   "source": [
    "df[\"azm\"].describe()"
   ]
  }
 ],
 "metadata": {
  "kernelspec": {
   "display_name": ".venv",
   "language": "python",
   "name": "python3"
  },
  "language_info": {
   "codemirror_mode": {
    "name": "ipython",
    "version": 3
   },
   "file_extension": ".py",
   "mimetype": "text/x-python",
   "name": "python",
   "nbconvert_exporter": "python",
   "pygments_lexer": "ipython3",
   "version": "3.13.7"
  }
 },
 "nbformat": 4,
 "nbformat_minor": 5
}
